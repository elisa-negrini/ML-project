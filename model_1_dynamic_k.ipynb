{
 "cells": [
  {
   "cell_type": "markdown",
   "id": "d4ed2e6d",
   "metadata": {},
   "source": [
    "# 🔍 Image Similarity with Dynamic k-Nearest Neighbors"
   ]
  },
  {
   "cell_type": "code",
   "execution_count": 1,
   "id": "affea0e0",
   "metadata": {},
   "outputs": [],
   "source": [
    "import torch\n",
    "import torch.nn as nn\n",
    "from torchvision import models, transforms, datasets\n",
    "from torch.utils.data import DataLoader\n",
    "from sklearn.neighbors import NearestNeighbors\n",
    "from sklearn.metrics.pairwise import cosine_similarity\n",
    "import numpy as np\n",
    "import json\n",
    "import os\n",
    "from PIL import Image\n",
    "from tqdm import tqdm\n"
   ]
  },
  {
   "cell_type": "code",
   "execution_count": 2,
   "id": "cdf5ff3c",
   "metadata": {},
   "outputs": [],
   "source": [
    "device = torch.device('cuda' if torch.cuda.is_available() else 'cpu')"
   ]
  },
  {
   "cell_type": "code",
   "execution_count": 3,
   "id": "fd2dabc4",
   "metadata": {},
   "outputs": [],
   "source": [
    "transform = transforms.Compose([\n",
    "    transforms.Resize(256),\n",
    "    transforms.CenterCrop(224),\n",
    "    transforms.ToTensor(),\n",
    "    transforms.Normalize(mean=[0.485, 0.456, 0.406],\n",
    "                         std=[0.229, 0.224, 0.225])\n",
    "])\n"
   ]
  },
  {
   "cell_type": "code",
   "execution_count": 4,
   "id": "30c272bc",
   "metadata": {},
   "outputs": [],
   "source": [
    "def get_model(num_classes):\n",
    "    model = models.resnet50(pretrained=True)\n",
    "    model.fc = nn.Linear(model.fc.in_features, num_classes)\n",
    "    return model\n"
   ]
  },
  {
   "cell_type": "code",
   "execution_count": 5,
   "id": "dfad9e2a",
   "metadata": {},
   "outputs": [],
   "source": [
    "def train_model(model, dataloader, epochs=5, lr=1e-4):\n",
    "    model = model.to(device)\n",
    "    model.train()\n",
    "    criterion = nn.CrossEntropyLoss()\n",
    "    optimizer = torch.optim.Adam(model.parameters(), lr=lr)\n",
    "\n",
    "    for epoch in range(epochs):\n",
    "        running_loss = 0.0\n",
    "        for inputs, labels in tqdm(dataloader, desc=f\"Epoch {epoch+1}/{epochs}\"):\n",
    "            inputs, labels = inputs.to(device), labels.to(device)\n",
    "            optimizer.zero_grad()\n",
    "            outputs = model(inputs)\n",
    "            loss = criterion(outputs, labels)\n",
    "            loss.backward()\n",
    "            optimizer.step()\n",
    "            running_loss += loss.item()\n",
    "        print(f\"Loss: {running_loss/len(dataloader):.4f}\")\n",
    "    return model\n"
   ]
  },
  {
   "cell_type": "code",
   "execution_count": 6,
   "id": "47a49d85",
   "metadata": {},
   "outputs": [],
   "source": [
    "def get_feature_extractor(trained_model):\n",
    "    feature_extractor = nn.Sequential(*list(trained_model.children())[:-1])\n",
    "    feature_extractor.eval()\n",
    "    return feature_extractor.to(device)\n"
   ]
  },
  {
   "cell_type": "code",
   "execution_count": 7,
   "id": "c3962bcd",
   "metadata": {},
   "outputs": [],
   "source": [
    "def extract_embeddings_from_folder(folder_path, model):\n",
    "    image_paths = sorted([os.path.join(folder_path, fname)\n",
    "                          for fname in os.listdir(folder_path)\n",
    "                          if fname.lower().endswith(('.jpg', '.jpeg', '.png'))])\n",
    "\n",
    "    all_embeddings = []\n",
    "    filenames = []\n",
    "\n",
    "    with torch.no_grad():\n",
    "        for i in range(0, len(image_paths), 32):\n",
    "            batch_paths = image_paths[i:i+32]\n",
    "            imgs = [transform(Image.open(p).convert(\"RGB\")) for p in batch_paths]\n",
    "            imgs = torch.stack(imgs).to(device)\n",
    "            vecs = model(imgs).squeeze(-1).squeeze(-1)\n",
    "            all_embeddings.append(vecs.cpu())\n",
    "            filenames.extend(batch_paths)\n",
    "\n",
    "    return torch.cat(all_embeddings, dim=0).numpy(), filenames\n"
   ]
  },
  {
   "cell_type": "code",
   "execution_count": 11,
   "id": "456a79b2",
   "metadata": {},
   "outputs": [],
   "source": [
    "def retrieve_query_vs_gallery_dynamic_cutoff(query_embs, query_files, gallery_embs, gallery_files, max_k=10, drop_threshold=0.10):\n",
    "    \"\"\"\n",
    "    Include i vicini finché la differenza di similarità con il precedente non supera la soglia `drop_threshold`.\n",
    "    \"\"\"\n",
    "    results = []\n",
    "    sim_matrix = cosine_similarity(query_embs, gallery_embs)\n",
    "\n",
    "    for i, query_path in enumerate(query_files):\n",
    "        similarities = sim_matrix[i]\n",
    "        sorted_indices = np.argsort(similarities)[::-1]\n",
    "        sorted_sims = similarities[sorted_indices]\n",
    "\n",
    "        selected = []\n",
    "        for j in range(1, min(max_k, len(sorted_sims))):\n",
    "            sim_prev = sorted_sims[j - 1]\n",
    "            sim_curr = sorted_sims[j]\n",
    "            selected.append(gallery_files[sorted_indices[j - 1]].replace(\"\\\\\", \"/\"))\n",
    "\n",
    "            if sim_prev - sim_curr > drop_threshold:\n",
    "                break  # salto netto → ci fermiamo\n",
    "\n",
    "        # Aggiungiamo l'ultimo solo se non ha causato il break\n",
    "        if len(selected) < max_k:\n",
    "            selected.append(gallery_files[sorted_indices[len(selected)]].replace(\"\\\\\", \"/\"))\n",
    "\n",
    "        results.append({\n",
    "            \"filename\": query_path.replace(\"\\\\\", \"/\"),\n",
    "            \"gallery_images\": selected\n",
    "        })\n",
    "\n",
    "    return results\n"
   ]
  },
  {
   "cell_type": "code",
   "execution_count": 12,
   "id": "bffc7396",
   "metadata": {},
   "outputs": [],
   "source": [
    "def save_submission(results, output_path):\n",
    "    os.makedirs(os.path.dirname(output_path), exist_ok=True)\n",
    "    with open(output_path, \"w\") as f:\n",
    "        json.dump(results, f, indent=2)\n"
   ]
  },
  {
   "cell_type": "code",
   "execution_count": 14,
   "id": "ec1a84b5",
   "metadata": {},
   "outputs": [
    {
     "name": "stderr",
     "output_type": "stream",
     "text": [
      "c:\\Users\\utente\\anaconda3\\envs\\ElisaML\\Lib\\site-packages\\torchvision\\models\\_utils.py:208: UserWarning: The parameter 'pretrained' is deprecated since 0.13 and may be removed in the future, please use 'weights' instead.\n",
      "  warnings.warn(\n",
      "c:\\Users\\utente\\anaconda3\\envs\\ElisaML\\Lib\\site-packages\\torchvision\\models\\_utils.py:223: UserWarning: Arguments other than a weight enum or `None` for 'weights' are deprecated since 0.13 and may be removed in the future. The current behavior is equivalent to passing `weights=ResNet50_Weights.IMAGENET1K_V1`. You can also use `weights=ResNet50_Weights.DEFAULT` to get the most up-to-date weights.\n",
      "  warnings.warn(msg)\n",
      "Epoch 1/5: 100%|██████████| 2/2 [00:07<00:00,  3.90s/it]\n"
     ]
    },
    {
     "name": "stdout",
     "output_type": "stream",
     "text": [
      "Loss: 0.9085\n"
     ]
    },
    {
     "name": "stderr",
     "output_type": "stream",
     "text": [
      "Epoch 2/5: 100%|██████████| 2/2 [00:08<00:00,  4.27s/it]\n"
     ]
    },
    {
     "name": "stdout",
     "output_type": "stream",
     "text": [
      "Loss: 0.3457\n"
     ]
    },
    {
     "name": "stderr",
     "output_type": "stream",
     "text": [
      "Epoch 3/5: 100%|██████████| 2/2 [00:08<00:00,  4.12s/it]\n"
     ]
    },
    {
     "name": "stdout",
     "output_type": "stream",
     "text": [
      "Loss: 0.0995\n"
     ]
    },
    {
     "name": "stderr",
     "output_type": "stream",
     "text": [
      "Epoch 4/5: 100%|██████████| 2/2 [00:08<00:00,  4.04s/it]\n"
     ]
    },
    {
     "name": "stdout",
     "output_type": "stream",
     "text": [
      "Loss: 0.1160\n"
     ]
    },
    {
     "name": "stderr",
     "output_type": "stream",
     "text": [
      "Epoch 5/5: 100%|██████████| 2/2 [00:08<00:00,  4.06s/it]\n"
     ]
    },
    {
     "name": "stdout",
     "output_type": "stream",
     "text": [
      "Loss: 0.0303\n",
      "✅ Submission salvata in: C:/Users/utente/Desktop/UNITN/Intro to ML/ML-project/submission/submission.json\n"
     ]
    }
   ],
   "source": [
    "# === CONFIGURA I PERCORSI QUI ===\n",
    "training_path = \"C:/Users/utente/Desktop/UNITN/Intro to ML/ML-project/Examples/training\"\n",
    "query_path = \"C:/Users/utente/Desktop/UNITN/Intro to ML/ML-project/Examples/test/query\"\n",
    "gallery_path = \"C:/Users/utente/Desktop/UNITN/Intro to ML/ML-project/Examples/test/gallery\"\n",
    "submission_path = \"C:/Users/utente/Desktop/UNITN/Intro to ML/ML-project/submission/submission.json\"\n",
    "\n",
    "# Step 1: Fine-tuning\n",
    "train_dataset = datasets.ImageFolder(training_path, transform=transform)\n",
    "train_loader = DataLoader(train_dataset, batch_size=32, shuffle=True)\n",
    "model = get_model(num_classes=len(train_dataset.classes))\n",
    "model = train_model(model, train_loader, epochs=5)\n",
    "\n",
    "# Step 2: Feature extraction\n",
    "feature_extractor = get_feature_extractor(model)\n",
    "query_embeddings, query_files = extract_embeddings_from_folder(query_path, feature_extractor)\n",
    "gallery_embeddings, gallery_files = extract_embeddings_from_folder(gallery_path, feature_extractor)\n",
    "\n",
    "# Step 3: Retrieval con soglia dinamica\n",
    "submission = retrieve_query_vs_gallery_dynamic_cutoff(\n",
    "    query_embeddings, query_files,\n",
    "    gallery_embeddings, gallery_files,\n",
    "    max_k=10,\n",
    "    drop_threshold=0.05  # 10% di calo di similarità\n",
    ")\n",
    "\n",
    "\n",
    "# Step 4: Salvataggio nella repo\n",
    "save_submission(submission, submission_path)\n",
    "print(f\"✅ Submission salvata in: {submission_path}\")\n"
   ]
  }
 ],
 "metadata": {
  "kernelspec": {
   "display_name": "ElisaML",
   "language": "python",
   "name": "python3"
  },
  "language_info": {
   "codemirror_mode": {
    "name": "ipython",
    "version": 3
   },
   "file_extension": ".py",
   "mimetype": "text/x-python",
   "name": "python",
   "nbconvert_exporter": "python",
   "pygments_lexer": "ipython3",
   "version": "3.12.9"
  }
 },
 "nbformat": 4,
 "nbformat_minor": 5
}
